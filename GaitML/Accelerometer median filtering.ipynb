{
 "cells": [
  {
   "cell_type": "markdown",
   "metadata": {},
   "source": [
    "# Smoothing Accelerometer/IMU data!\n",
    "\n",
    "## Interactive `bqplot` demo 😊"
   ]
  },
  {
   "cell_type": "code",
   "execution_count": 14,
   "metadata": {
    "scrolled": true
   },
   "outputs": [
    {
     "name": "stdout",
     "output_type": "stream",
     "text": [
      "File Read\n"
     ]
    }
   ],
   "source": [
    "import numpy as np\n",
    "import pandas as pd\n",
    "import datetime\n",
    "import bqplot.pyplot as plt\n",
    "import bqplot as bq\n",
    "import ipywidgets\n",
    "import warnings\n",
    "\n",
    "\n",
    "warnings.filterwarnings(\"ignore\") # ;)\n",
    "\n",
    "file_path = \"./data/Motion_Data_stage1.csv\"\n",
    "df = pd.read_csv(file_path,)\n",
    "\n",
    "print(\"File Read\")"
   ]
  },
  {
   "cell_type": "code",
   "execution_count": 15,
   "metadata": {
    "scrolled": false
   },
   "outputs": [
    {
     "name": "stdout",
     "output_type": "stream",
     "text": [
      "Length of data (s):  9592.0\n",
      "Length of selected (s): 4096.0\n"
     ]
    }
   ],
   "source": [
    "sec = 100        # 100 samples per second \n",
    "num_secs = 4096    # how big of a window we want to view\n",
    "\n",
    "start = 20 * sec\n",
    "end = start + (num_secs * sec)\n",
    "\n",
    "# iloc allows you to slice from and/or locate entries by integer indices.\n",
    "x = df['time'].iloc[start:end]\n",
    "y = [df.iloc[start:end]['accelerometer_x'],\n",
    "    df.iloc[start:end]['accelerometer_y'],\n",
    "    df.iloc[start:end]['accelerometer_z'],\n",
    "    df.iloc[start:end]['gyroscope_x'],\n",
    "    df.iloc[start:end]['gyroscope_y'],\n",
    "    df.iloc[start:end]['gyroscope_z']]\n",
    "\n",
    "        \n",
    "print(f\"Length of data (s):  {df.size/sec}\")\n",
    "print(f\"Length of selected (s): {(end-start)/sec}\")"
   ]
  },
  {
   "cell_type": "code",
   "execution_count": 16,
   "metadata": {},
   "outputs": [
    {
     "data": {
      "application/vnd.jupyter.widget-view+json": {
       "model_id": "370415b15bbb43caa6d5794c1cd69fb7",
       "version_major": 2,
       "version_minor": 0
      },
      "text/plain": [
       "VBox(children=(Figure(axes=[Axis(scale=LinearScale(max=15000.0, min=14000.0)), Axis(orientation='vertical', sc…"
      ]
     },
     "metadata": {},
     "output_type": "display_data"
    }
   ],
   "source": [
    "f = plt.figure(title=\"acceleration, see how spikey?\")\n",
    "plt.plot(y[1],colors=['green'])\n",
    "f.marks[0].scales['x'].max=15000\n",
    "f.marks[0].scales['x'].min=14000\n",
    "f.marks[0].scales['y'].max=200\n",
    "f.marks[0].scales['y'].min=-200\n",
    "plt.show()"
   ]
  },
  {
   "cell_type": "markdown",
   "metadata": {},
   "source": [
    "## Median Filtering the spikes out! 😀\n",
    "\n",
    "A **median filter** \"squashes\" sudden impulses within a kernel size, or window, down to the median. The wider the kernel size, the greater the width of the impulses that can be \"squashed.\" Too big of a window will eventually \"squash\" away the signal we wish to keep.\n",
    "\n",
    "In the spirit of interactivity, I made a widget to interact with this `kernel_size` argument that the `medfilt` function takes. I found the best window size to be about 11-15 for the accelerometer in the y direction. You can also apply the median filter to the 3D or 6D array, but I would tune it to specific windows for acceleration and gyroscopic measurements.\n",
    "\n",
    "> 💡 The high frequency spikes are likely the impulses from sudden changes in motion or direction, like when the foot hits the ground or pushes off, or in the case of running, even when the foot reverses direction mid air.\n",
    ">\n",
    "> You can imagine a ball in a box shaking and hitting different sides inside of a cube. Even though the direction of the box changed relatively smoothly, there will likely be shaking of the ball inside the box before it begins to accelerate along with the box, causing these spikes or impulses."
   ]
  },
  {
   "cell_type": "code",
   "execution_count": 17,
   "metadata": {
    "scrolled": false
   },
   "outputs": [
    {
     "data": {
      "application/vnd.jupyter.widget-view+json": {
       "model_id": "05f8635d00b143a2b118564c64f2dbd9",
       "version_major": 2,
       "version_minor": 0
      },
      "text/plain": [
       "interactive(children=(IntSlider(value=3, description='Kernel Window: (Must use odd number)', min=1, step=2), O…"
      ]
     },
     "metadata": {},
     "output_type": "display_data"
    },
    {
     "data": {
      "application/vnd.jupyter.widget-view+json": {
       "model_id": "d6def66b64204da59998a6663e3a2c1d",
       "version_major": 2,
       "version_minor": 0
      },
      "text/plain": [
       "Figure(animation_duration=2000, axes=[Axis(scale=LinearScale(max=210.0, min=200.0)), Axis(orientation='vertica…"
      ]
     },
     "metadata": {},
     "output_type": "display_data"
    }
   ],
   "source": [
    "from scipy.signal import medfilt\n",
    "from ipywidgets import interact, IntSlider\n",
    " \n",
    "scales = {\"x\": bq.LinearScale(), \"y\": bq.LinearScale()}\n",
    "xax = bq.Axis(scale=scales['x'])\n",
    "yax = bq.Axis(scale=scales['y'],orientation='vertical')\n",
    "line = bq.Lines(x=x,y=y[1],scales=scales, labels=['unfiltered'],opacities=[0.65],colors=['lime'])\n",
    "\n",
    "filt_line = bq.Lines(x=x,y=medfilt(y[1]),scales=scales,labels = ['filtered line'], colors=['red'],preserve_axis=True)\n",
    "\n",
    "@interact(kern_size=IntSlider(min=1,step=2,value=3,description=\"Kernel Window: (Must use odd number)\"))\n",
    "def ch_lin(kern_size):\n",
    "    filt_line.y = medfilt(y[1],kernel_size=kern_size)\n",
    "\n",
    "line.scales['y'].max = 5\n",
    "line.scales['y'].min = -5\n",
    "line.scales['x'].max = 210\n",
    "line.scales['x'].min = 200\n",
    "\n",
    "fig = bq.Figure(title=\"filter_effect\",\n",
    "                marks=[line,filt_line],\n",
    "                axes=[xax,yax],\n",
    "                scales=scales,\n",
    "                animation_duration = 2000)\n",
    "\n",
    "fig\n"
   ]
  },
  {
   "cell_type": "markdown",
   "metadata": {},
   "source": [
    "The best kernel window I found was in the 11-15 range, so I chose 11 to err closer toward the integrity of the original data. However, the gyroscope data needs a different approach for removing spikes, noise and drift. We forego that for now, and save it for another stage of preparation.\n",
    "\n",
    "For now, we will filter the acceleration data and add the filtered columns to the dataframe and the `.csv` file."
   ]
  },
  {
   "cell_type": "code",
   "execution_count": 18,
   "metadata": {},
   "outputs": [
    {
     "name": "stdout",
     "output_type": "stream",
     "text": [
      "Index(['timestamp', 'accelerometer_x', 'accelerometer_y', 'accelerometer_z',\n",
      "       'gyroscope_x', 'gyroscope_y', 'gyroscope_z', 'time',\n",
      "       'filtered_accelerometer_x', 'filtered_accelerometer_y',\n",
      "       'filtered_accelerometer_z'],\n",
      "      dtype='object')\n"
     ]
    }
   ],
   "source": [
    "acc_columns = ['accelerometer_x','accelerometer_y','accelerometer_z']\n",
    "\n",
    "for col in acc_columns:\n",
    "    new_col_name = 'filtered_' + col\n",
    "    df[new_col_name] = medfilt(df[col],kernel_size=11)\n",
    "    \n",
    "print(df.columns)"
   ]
  },
  {
   "cell_type": "markdown",
   "metadata": {},
   "source": [
    "Let's reorder these columns... Starting to bug me."
   ]
  },
  {
   "cell_type": "code",
   "execution_count": 19,
   "metadata": {},
   "outputs": [
    {
     "name": "stdout",
     "output_type": "stream",
     "text": [
      "Index(['timestamp', 'time', 'accelerometer_x', 'accelerometer_y',\n",
      "       'accelerometer_z', 'gyroscope_x', 'gyroscope_y', 'gyroscope_z',\n",
      "       'filtered_accelerometer_x', 'filtered_accelerometer_y',\n",
      "       'filtered_accelerometer_z'],\n",
      "      dtype='object')\n"
     ]
    }
   ],
   "source": [
    "df = df[['timestamp','time','accelerometer_x',\n",
    "         'accelerometer_y','accelerometer_z',\n",
    "        'gyroscope_x','gyroscope_y',\n",
    "         'gyroscope_z','filtered_accelerometer_x',\n",
    "         'filtered_accelerometer_y','filtered_accelerometer_z']]\n",
    "\n",
    "print(df.columns)"
   ]
  },
  {
   "cell_type": "markdown",
   "metadata": {},
   "source": [
    "Now we can save this new updated `.csv` file"
   ]
  },
  {
   "cell_type": "code",
   "execution_count": 21,
   "metadata": {},
   "outputs": [],
   "source": [
    "df.to_csv('./data/motion_data_filt_acc.csv',index=False)\n"
   ]
  },
  {
   "cell_type": "code",
   "execution_count": 22,
   "metadata": {},
   "outputs": [
    {
     "data": {
      "text/plain": [
       "Index(['timestamp', 'time', 'accelerometer_x', 'accelerometer_y',\n",
       "       'accelerometer_z', 'gyroscope_x', 'gyroscope_y', 'gyroscope_z',\n",
       "       'filtered_accelerometer_x', 'filtered_accelerometer_y',\n",
       "       'filtered_accelerometer_z'],\n",
       "      dtype='object')"
      ]
     },
     "execution_count": 22,
     "metadata": {},
     "output_type": "execute_result"
    }
   ],
   "source": [
    "df.columns"
   ]
  },
  {
   "cell_type": "code",
   "execution_count": 23,
   "metadata": {},
   "outputs": [
    {
     "data": {
      "text/plain": [
       "True"
      ]
     },
     "execution_count": 23,
     "metadata": {},
     "output_type": "execute_result"
    }
   ],
   "source": [
    "# Check if it saved!\n",
    "import os\n",
    "\n",
    "os.path.isfile('./data/motion_data_filt_acc.csv')"
   ]
  },
  {
   "cell_type": "code",
   "execution_count": 9,
   "metadata": {},
   "outputs": [
    {
     "name": "stdout",
     "output_type": "stream",
     "text": [
      " Volume in drive D is Local Sata SSD\n",
      " Volume Serial Number is 8E00-DAA8\n",
      "\n",
      " Directory of D:\\Desktop\\Projects\\python\\jupyter-notebooks\\GaitML\\data\n",
      "\n",
      "05/06/2021  12:07 PM    <DIR>          .\n",
      "05/06/2021  12:07 PM    <DIR>          ..\n",
      "02/12/2020  09:38 PM        12,269,968 Motion_data.csv\n",
      "05/07/2021  04:45 PM        16,707,344 motion_data_filt_acc.csv\n",
      "04/24/2021  11:59 AM        12,597,830 Motion_data_stage1.csv\n",
      "02/09/2020  12:48 AM        15,172,900 TAS1F06180329 (2018-10-24)-IMU.csv\n",
      "               4 File(s)     56,748,042 bytes\n",
      "               2 Dir(s)  476,517,982,208 bytes free\n"
     ]
    }
   ],
   "source": [
    "# Could also uses shell too\n",
    "!dir data"
   ]
  },
  {
   "cell_type": "markdown",
   "metadata": {},
   "source": [
    "Now we are done filtering the accelerometer spikes! We can try to take out more noise, but the data looks much better now. We will eventually perform FFT analyses to get useful information from the accelerometer data, possibly to select features for our classification algorithm.\n",
    "\n",
    "The next immediate goal, however, is to perform FFT analysis on the gyroscope data to hopefully filter out noise and isolate important properties of the signal to use for feature selection.\n",
    "\n"
   ]
  }
 ],
 "metadata": {
  "kernelspec": {
   "display_name": "Python (Signal Processing Project)",
   "language": "python",
   "name": "sig_proc_proj"
  },
  "language_info": {
   "codemirror_mode": {
    "name": "ipython",
    "version": 3
   },
   "file_extension": ".py",
   "mimetype": "text/x-python",
   "name": "python",
   "nbconvert_exporter": "python",
   "pygments_lexer": "ipython3",
   "version": "3.9.2"
  },
  "varInspector": {
   "cols": {
    "lenName": 16,
    "lenType": 16,
    "lenVar": 40
   },
   "kernels_config": {
    "python": {
     "delete_cmd_postfix": "",
     "delete_cmd_prefix": "del ",
     "library": "var_list.py",
     "varRefreshCmd": "print(var_dic_list())"
    },
    "r": {
     "delete_cmd_postfix": ") ",
     "delete_cmd_prefix": "rm(",
     "library": "var_list.r",
     "varRefreshCmd": "cat(var_dic_list()) "
    }
   },
   "oldHeight": 122.461434,
   "position": {
    "height": "39.9945px",
    "left": "865.854px",
    "right": "20px",
    "top": "120px",
    "width": "250px"
   },
   "types_to_exclude": [
    "module",
    "function",
    "builtin_function_or_method",
    "instance",
    "_Feature"
   ],
   "varInspector_section_display": "none",
   "window_display": false
  }
 },
 "nbformat": 4,
 "nbformat_minor": 4
}
