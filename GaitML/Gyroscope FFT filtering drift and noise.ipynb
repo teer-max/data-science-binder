{
 "cells": [
  {
   "cell_type": "markdown",
   "metadata": {},
   "source": [
    "# Smoothing Gyroscope data, handling drift with FFT\n",
    "\n",
    "## Interactive `bqplot` demo\n",
    "\n",
    "At this point, we have cleaned the data frame and filtered spikes out of the acceleration data. Now we will perform a *Fast Fourier Transform* which is a mathematical way of mapping the gyroscope signal into frequency space to see the spectral or frequency related characteristics of the wave.\n",
    "\n",
    "In our analysis we will only look at the real part of the FFTs.\n",
    "\n",
    "Recall we have three activities to classify from:\n",
    "* walking\n",
    "* running\n",
    "* standing\n",
    "\n",
    "so we'll be looking at FFT characteristics from both training sets"
   ]
  },
  {
   "cell_type": "markdown",
   "metadata": {},
   "source": [
    "### Import data"
   ]
  },
  {
   "cell_type": "code",
   "execution_count": 1,
   "metadata": {
    "scrolled": true
   },
   "outputs": [
    {
     "name": "stdout",
     "output_type": "stream",
     "text": [
      "File Read\n"
     ]
    }
   ],
   "source": [
    "import numpy as np\n",
    "import pandas as pd\n",
    "import datetime\n",
    "\n",
    "import warnings\n",
    "warnings.filterwarnings(\"ignore\") # ;)\n",
    "\n",
    "file_path = \"./data/Motion_Data_filt_acc.csv\"\n",
    "df = pd.read_csv(file_path)\n",
    "\n",
    "print(\"File Read\")"
   ]
  },
  {
   "cell_type": "code",
   "execution_count": 2,
   "metadata": {},
   "outputs": [
    {
     "data": {
      "text/html": [
       "<div>\n",
       "<style scoped>\n",
       "    .dataframe tbody tr th:only-of-type {\n",
       "        vertical-align: middle;\n",
       "    }\n",
       "\n",
       "    .dataframe tbody tr th {\n",
       "        vertical-align: top;\n",
       "    }\n",
       "\n",
       "    .dataframe thead th {\n",
       "        text-align: right;\n",
       "    }\n",
       "</style>\n",
       "<table border=\"1\" class=\"dataframe\">\n",
       "  <thead>\n",
       "    <tr style=\"text-align: right;\">\n",
       "      <th></th>\n",
       "      <th>timestamp</th>\n",
       "      <th>time</th>\n",
       "      <th>accelerometer_x</th>\n",
       "      <th>accelerometer_y</th>\n",
       "      <th>accelerometer_z</th>\n",
       "      <th>gyroscope_x</th>\n",
       "      <th>gyroscope_y</th>\n",
       "      <th>gyroscope_z</th>\n",
       "      <th>filtered_accelerometer_x</th>\n",
       "      <th>filtered_accelerometer_y</th>\n",
       "      <th>filtered_accelerometer_z</th>\n",
       "    </tr>\n",
       "  </thead>\n",
       "  <tbody>\n",
       "    <tr>\n",
       "      <th>0</th>\n",
       "      <td>2018-10-24T11:20:00.0000000</td>\n",
       "      <td>0.00</td>\n",
       "      <td>0.046875</td>\n",
       "      <td>-0.008301</td>\n",
       "      <td>1.015625</td>\n",
       "      <td>-1.403809</td>\n",
       "      <td>1.403809</td>\n",
       "      <td>-0.549316</td>\n",
       "      <td>0.044922</td>\n",
       "      <td>-0.003906</td>\n",
       "      <td>1.008301</td>\n",
       "    </tr>\n",
       "    <tr>\n",
       "      <th>1</th>\n",
       "      <td>2018-10-24T11:20:00.0100000</td>\n",
       "      <td>0.01</td>\n",
       "      <td>0.049316</td>\n",
       "      <td>-0.003906</td>\n",
       "      <td>1.016602</td>\n",
       "      <td>-1.647949</td>\n",
       "      <td>1.342774</td>\n",
       "      <td>-0.549316</td>\n",
       "      <td>0.045898</td>\n",
       "      <td>-0.008301</td>\n",
       "      <td>1.008301</td>\n",
       "    </tr>\n",
       "    <tr>\n",
       "      <th>2</th>\n",
       "      <td>2018-10-24T11:20:00.0200000</td>\n",
       "      <td>0.02</td>\n",
       "      <td>0.045898</td>\n",
       "      <td>-0.010742</td>\n",
       "      <td>1.010254</td>\n",
       "      <td>-2.258301</td>\n",
       "      <td>1.159668</td>\n",
       "      <td>-0.549316</td>\n",
       "      <td>0.046875</td>\n",
       "      <td>-0.010254</td>\n",
       "      <td>1.008301</td>\n",
       "    </tr>\n",
       "    <tr>\n",
       "      <th>3</th>\n",
       "      <td>2018-10-24T11:20:00.0300000</td>\n",
       "      <td>0.03</td>\n",
       "      <td>0.044922</td>\n",
       "      <td>-0.010254</td>\n",
       "      <td>1.014160</td>\n",
       "      <td>-2.258301</td>\n",
       "      <td>1.098633</td>\n",
       "      <td>-0.549316</td>\n",
       "      <td>0.047363</td>\n",
       "      <td>-0.010742</td>\n",
       "      <td>1.008301</td>\n",
       "    </tr>\n",
       "    <tr>\n",
       "      <th>4</th>\n",
       "      <td>2018-10-24T11:20:00.0400000</td>\n",
       "      <td>0.04</td>\n",
       "      <td>0.050781</td>\n",
       "      <td>-0.011719</td>\n",
       "      <td>1.008301</td>\n",
       "      <td>-2.380371</td>\n",
       "      <td>1.037598</td>\n",
       "      <td>-0.549316</td>\n",
       "      <td>0.047363</td>\n",
       "      <td>-0.011230</td>\n",
       "      <td>1.010254</td>\n",
       "    </tr>\n",
       "  </tbody>\n",
       "</table>\n",
       "</div>"
      ],
      "text/plain": [
       "                     timestamp  time  accelerometer_x  accelerometer_y  \\\n",
       "0  2018-10-24T11:20:00.0000000  0.00         0.046875        -0.008301   \n",
       "1  2018-10-24T11:20:00.0100000  0.01         0.049316        -0.003906   \n",
       "2  2018-10-24T11:20:00.0200000  0.02         0.045898        -0.010742   \n",
       "3  2018-10-24T11:20:00.0300000  0.03         0.044922        -0.010254   \n",
       "4  2018-10-24T11:20:00.0400000  0.04         0.050781        -0.011719   \n",
       "\n",
       "   accelerometer_z  gyroscope_x  gyroscope_y  gyroscope_z  \\\n",
       "0         1.015625    -1.403809     1.403809    -0.549316   \n",
       "1         1.016602    -1.647949     1.342774    -0.549316   \n",
       "2         1.010254    -2.258301     1.159668    -0.549316   \n",
       "3         1.014160    -2.258301     1.098633    -0.549316   \n",
       "4         1.008301    -2.380371     1.037598    -0.549316   \n",
       "\n",
       "   filtered_accelerometer_x  filtered_accelerometer_y  \\\n",
       "0                  0.044922                 -0.003906   \n",
       "1                  0.045898                 -0.008301   \n",
       "2                  0.046875                 -0.010254   \n",
       "3                  0.047363                 -0.010742   \n",
       "4                  0.047363                 -0.011230   \n",
       "\n",
       "   filtered_accelerometer_z  \n",
       "0                  1.008301  \n",
       "1                  1.008301  \n",
       "2                  1.008301  \n",
       "3                  1.008301  \n",
       "4                  1.010254  "
      ]
     },
     "execution_count": 2,
     "metadata": {},
     "output_type": "execute_result"
    }
   ],
   "source": [
    "df.head()"
   ]
  },
  {
   "cell_type": "markdown",
   "metadata": {},
   "source": [
    "## Clean / Prep Data\n",
    "\n",
    "Let's select our relevent data via columns, pandas, and dictionaries! They're helpful for bqplot logic.\n",
    "\n",
    "First we grab the columns of interest, just their names. The list will be useful for logic later, too."
   ]
  },
  {
   "cell_type": "code",
   "execution_count": 3,
   "metadata": {},
   "outputs": [
    {
     "name": "stdout",
     "output_type": "stream",
     "text": [
      "Index(['gyroscope_x', 'gyroscope_y', 'gyroscope_z'], dtype='object')\n"
     ]
    }
   ],
   "source": [
    "GYRO_COLUMNS = df.columns[5:8]\n",
    "print(GYRO_COLUMNS)"
   ]
  },
  {
   "cell_type": "markdown",
   "metadata": {},
   "source": [
    "Now we make a new dataframe out of just those columns/series of interest:"
   ]
  },
  {
   "cell_type": "code",
   "execution_count": 4,
   "metadata": {},
   "outputs": [
    {
     "name": "stdout",
     "output_type": "stream",
     "text": [
      "   time  gyroscope_x  gyroscope_y  gyroscope_z\n",
      "0  0.00    -1.403809     1.403809    -0.549316\n",
      "1  0.01    -1.647949     1.342774    -0.549316\n",
      "2  0.02    -2.258301     1.159668    -0.549316\n",
      "3  0.03    -2.258301     1.098633    -0.549316\n",
      "4  0.04    -2.380371     1.037598    -0.549316\n"
     ]
    }
   ],
   "source": [
    "dfg = df[['time','gyroscope_x','gyroscope_y','gyroscope_z']]\n",
    "print(dfg.head())"
   ]
  },
  {
   "cell_type": "markdown",
   "metadata": {},
   "source": [
    "Now we can begin some data analysis. We will use `bqplot` interactivity to help with tuning parameters."
   ]
  },
  {
   "cell_type": "code",
   "execution_count": 5,
   "metadata": {},
   "outputs": [
    {
     "data": {
      "application/vnd.jupyter.widget-view+json": {
       "model_id": "d938950404d2457b8999c6d4e0fcdb9f",
       "version_major": 2,
       "version_minor": 0
      },
      "text/plain": [
       "VBox(children=(Figure(axes=[Axis(scale=LinearScale()), Axis(orientation='vertical', scale=LinearScale())], fig…"
      ]
     },
     "metadata": {},
     "output_type": "display_data"
    }
   ],
   "source": [
    "import bqplot.pyplot as plt\n",
    "import bqplot as bq\n",
    "f = plt.figure()\n",
    "plt.plot(df['gyroscope_y'],animation_duration=1000)\n",
    "\n",
    "# uncomment to see only part of the running data\n",
    "# f.marks[0].scales['x'].max = 45000\n",
    "# f.marks[0].scales['x'].min = 46000\n",
    "\n",
    "# uncomment to see only part of the running data\n",
    "# f.marks[0].scales['x'].max = 25000\n",
    "# f.marks[0].scales['x'].min = 26000\n",
    "\n",
    "plt.show()"
   ]
  },
  {
   "cell_type": "markdown",
   "metadata": {},
   "source": [
    "The first two big blocks of the signal are the walking portion and running portions of the test, respectively. \n",
    "\n",
    "We will perform FFTs on each section to try to get an idea of the noise spectrums for each of those activities.\n",
    "\n",
    "For this, we select a point in the training interval and take a window, preferably of size that is a power of two, and plot the spectral density to look for peaks and noise."
   ]
  },
  {
   "cell_type": "code",
   "execution_count": 6,
   "metadata": {},
   "outputs": [
    {
     "name": "stdout",
     "output_type": "stream",
     "text": [
      "[49.609375  49.609375  49.8046875 49.8046875 50.       ]\n"
     ]
    }
   ],
   "source": [
    "from scipy.fftpack import rfft,rfftfreq, irfft\n",
    "\n",
    "# window of size of power of 2\n",
    "# \n",
    "window_size = 512\n",
    "\n",
    "# activity range estimates\n",
    "walking_start = 20000\n",
    "walking_end = walking_start + window_size \n",
    "running_start = 45000\n",
    "running_end = running_start + window_size\n",
    "\n",
    "activities = ['walking','running']\n",
    "gyro_ffts = {}\n",
    "signals = {}\n",
    "x_times = {}\n",
    "for activity in activities:\n",
    "    gyro_ffts[activity] = {}\n",
    "    signals[activity] = {}\n",
    "\n",
    "x_times.update({'walking': dfg['time'].values[walking_start:walking_end]})\n",
    "x_times.update({'running': dfg['time'].values[running_start:running_end]})\n",
    "    \n",
    "    \n",
    "for col in GYRO_COLUMNS:\n",
    "    signals['walking'].update({col: dfg[col].values[walking_start:walking_end]})\n",
    "    walking_avg = dfg[col].values[walking_start:walking_end].mean()\n",
    "    \n",
    "    signals['running'].update({col: dfg[col].values[running_start:running_end]})\n",
    "    running_avg = dfg[col].values[running_start:running_end].mean()\n",
    "    \n",
    "    # We remove the average to remove the \"spike at 0\",\n",
    "    # the first FFT coefficient, or the DC bias\n",
    "    # depending on your perspective of the signal,\n",
    "    # as a voltage or average of the \"acceleration\" signal\n",
    "    \n",
    "    gyro_ffts['walking'][col] = rfft((signals['walking'][col]-walking_avg))\n",
    "    gyro_ffts['running'][col] = rfft((signals['running'][col]-running_avg))\n",
    "\n",
    "    \n",
    "# d is the sampling frequency, in our case 100hz, so 0.01 seconds\n",
    "sample = rfftfreq(window_size,d=0.01)\n",
    "x_freq = sample\n",
    "print(x_freq[-5:])"
   ]
  },
  {
   "cell_type": "code",
   "execution_count": 7,
   "metadata": {},
   "outputs": [
    {
     "ename": "NameError",
     "evalue": "name 'pz' is not defined",
     "output_type": "error",
     "traceback": [
      "\u001b[1;31m---------------------------------------------------------------------------\u001b[0m",
      "\u001b[1;31mNameError\u001b[0m                                 Traceback (most recent call last)",
      "\u001b[1;32m<ipython-input-7-a7437814ca72>\u001b[0m in \u001b[0;36m<module>\u001b[1;34m\u001b[0m\n\u001b[0;32m      1\u001b[0m \u001b[1;31m# quick plot of gyroscope data\u001b[0m\u001b[1;33m\u001b[0m\u001b[1;33m\u001b[0m\u001b[1;33m\u001b[0m\u001b[0m\n\u001b[0;32m      2\u001b[0m \u001b[1;33m\u001b[0m\u001b[0m\n\u001b[1;32m----> 3\u001b[1;33m \u001b[0mfig\u001b[0m \u001b[1;33m=\u001b[0m \u001b[0mplt\u001b[0m\u001b[1;33m.\u001b[0m\u001b[0mfigure\u001b[0m\u001b[1;33m(\u001b[0m\u001b[0mtitle\u001b[0m\u001b[1;33m=\u001b[0m\u001b[1;34m\"Gyroscope FFT plot\"\u001b[0m\u001b[1;33m,\u001b[0m\u001b[0minteracts\u001b[0m\u001b[1;33m=\u001b[0m\u001b[0mpz\u001b[0m\u001b[1;33m)\u001b[0m\u001b[1;33m\u001b[0m\u001b[1;33m\u001b[0m\u001b[0m\n\u001b[0m\u001b[0;32m      4\u001b[0m \u001b[1;33m\u001b[0m\u001b[0m\n\u001b[0;32m      5\u001b[0m \u001b[1;33m\u001b[0m\u001b[0m\n",
      "\u001b[1;31mNameError\u001b[0m: name 'pz' is not defined"
     ]
    }
   ],
   "source": [
    "# quick plot of gyroscope data\n",
    "\n",
    "fig = plt.figure(title=\"Gyroscope FFT plot\",interacts=pz)\n",
    "\n",
    "\n",
    "\n",
    "plt.plot(x=x_freq,y=gyro_ffts['running']['gyroscope_z'],opacities=[0.7], colors = ['orangered'],sizes=[0.1])\n",
    "fig.marks[0].scales['x'].max = 50\n",
    "fig.marks[0].scales['x'].min = 0\n",
    "plt.show()\n"
   ]
  },
  {
   "cell_type": "code",
   "execution_count": 8,
   "metadata": {},
   "outputs": [
    {
     "data": {
      "application/vnd.jupyter.widget-view+json": {
       "model_id": "ca87e97e1e40480d9e538321f854272b",
       "version_major": 2,
       "version_minor": 0
      },
      "text/plain": [
       "VBox(children=(HBox(children=(VBox(children=(Dropdown(index=1, layout=Layout(border='solid', width='125px'), o…"
      ]
     },
     "metadata": {},
     "output_type": "display_data"
    }
   ],
   "source": [
    "from ipywidgets import (interact, FloatSlider,\n",
    "                        IntSlider,HBox,VBox,\n",
    "                        Label, Dropdown)\n",
    "\n",
    "\n",
    "global filtered_fft\n",
    "global filt_sig\n",
    "\n",
    "filter_thresh = IntSlider(value=1000,min=0,max=100000,step=100)\n",
    "low_pass = FloatSlider(value=10, min=0, max=50, step=0.1)\n",
    "high_pass = FloatSlider(value=2, min=0, max=50, step=0.1)\n",
    "\n",
    "    \n",
    "def filter_and_invert():\n",
    "    global filtered_fft\n",
    "    ac = activity_select.value\n",
    "    gy = gyro_select.value\n",
    "    # this is a step condition, where if the spectrum meets the condition\n",
    "    # we allow the fft values to pass, if not, we \"squash\" them to 0.\n",
    "    \n",
    "    filtered_fft = np.where(x_freq<low_pass.value,# condition\n",
    "                            gyro_ffts[ac][gy],    # value if it survives\n",
    "                            0)                    # else squashed to 0\n",
    "    # similar...\n",
    "    filtered_fft = np.where(x_freq>high_pass.value,filtered_fft,0)\n",
    "    filtered_fft = np.where(abs(filtered_fft)>filter_thresh.value,filtered_fft,0)\n",
    "    \n",
    "    # filter the signal\n",
    "    global filt_sig\n",
    "    filt_sig = irfft(filtered_fft)\n",
    "\n",
    "def low_pee(change):\n",
    "    filter_and_invert()\n",
    "    #print('low: ',low_pass.value)\n",
    "    filt_sig_line.y = filt_sig\n",
    "    filt_fft_line.y = filtered_fft\n",
    "\n",
    "def high_pee(change):\n",
    "    filter_and_invert()\n",
    "    #print('low: ',low_pass.value)\n",
    "    filt_sig_line.y = filt_sig\n",
    "    filt_fft_line.y = filtered_fft\n",
    "    \n",
    "def thresh_poo(change):\n",
    "    filter_and_invert()\n",
    "    #print(\"thresh: \",filter_thresh.value)\n",
    "    filt_sig_line.y = filt_sig\n",
    "    filt_fft_line.y = filtered_fft\n",
    "\n",
    "activity_select = Dropdown(options=['walking','running'],value='running')\n",
    "gyro_select = Dropdown(options=GYRO_COLUMNS,value=GYRO_COLUMNS[0])\n",
    "\n",
    "def select_gyro(change):\n",
    "    filter_and_invert()\n",
    "    filt_sig_line.x = x_times[activity_select.value]\n",
    "    filt_sig_line.y = filt_sig\n",
    "    sig_line.y = signals[activity_select.value][change.new]\n",
    "    sig_line.x = filt_sig_line.x\n",
    "    filt_fft_line.y = filtered_fft\n",
    "    \n",
    "def select_activity(change):\n",
    "    filter_and_invert()\n",
    "    filt_sig_line.x = x_times[change.new]\n",
    "    filt_sig_line.y = filt_sig\n",
    "    sig_line.y = signals[change.new][gyro_select.value]\n",
    "    sig_line.x = filt_sig_line.x\n",
    "    filt_fft_line.y = filtered_fft\n",
    "    \n",
    "filter_thresh.observe(thresh_poo,names=['value'])\n",
    "low_pass.observe(low_pee,names=['value'])\n",
    "high_pass.observe(high_pee,names=['value'])\n",
    "gyro_select.observe(select_gyro,names=['value'])\n",
    "activity_select.observe(select_activity,names=['value'])\n",
    "\n",
    "x_sc = bq.LinearScale()\n",
    "xf_sc = bq.LinearScale()\n",
    "y_lin_sc = bq.LinearScale()\n",
    "y_log_sc = bq.LinearScale()\n",
    "\n",
    "\n",
    "gyro_scales = {'x':x_sc, 'y': y_lin_sc}\n",
    "power_scales = {'x': xf_sc,'y': y_log_sc}\n",
    "\n",
    "# prepare this bq.Interact object for the signal figure\n",
    "from bqplot.interacts import PanZoom\n",
    "pzx = PanZoom(scales={'x':[x_sc]})\n",
    "\n",
    "\n",
    "\n",
    "filter_and_invert()\n",
    "\n",
    "# These two lines are plotted together in the same figure:\n",
    "sig_line = bq.Lines(x=x_times['running'],y=[signals[activity_select.value][gyro_select.value]],scales=gyro_scales,colors=['dodgerblue'],opacities=[0.5])\n",
    "filt_sig_line = bq.Lines(x=x_times['running'],y=[filt_sig],scales=gyro_scales,colors=['red'],opacities=[0.8])\n",
    "\n",
    "# This is plotted alone\n",
    "filt_fft_line = bq.Lines(x=x_freq,y=[filtered_fft],scales=power_scales)\n",
    "\n",
    "\n",
    "time_ax = bq.Axis(label='time (s)', scale=gyro_scales['x'], marks=[sig_line,filt_sig_line],num_ticks=5)\n",
    "freq_ax = bq.Axis(label=\"frequency\",scale = bq.LinearScale(max=50,min=0))\n",
    "\n",
    "gyro_ax = bq.Axis(label='Rotation (deg/s)',orientation='vertical',scale=gyro_scales['y'])\n",
    "power_ax = bq.Axis(label='magnitude',orientation='vertical',side='left',scale=power_scales['y'])\n",
    "\n",
    "# figures take in marks, axes, as well as interactions\n",
    "sig_fig = bq.Figure(marks=[sig_line,filt_sig_line],axes=[time_ax,gyro_ax],interaction=pzx)\n",
    "fft_fig = bq.Figure(marks=[filt_fft_line],axes=[freq_ax,power_ax])\n",
    "    \n",
    "# figure layout options/attribs\n",
    "fft_fig.layout.width = \"300px\"\n",
    "fft_fig.layout.height = \"300px\"\n",
    "fft_fig.fig_margin = {'bottom':35,\n",
    "                    'top':20,\n",
    "                    'left':50,\n",
    "                    'right':0}\n",
    "\n",
    "sig_fig.layout.width = \"300px\"\n",
    "sig_fig.layout.height = \"300px\"\n",
    "sig_fig.fig_margin = {'bottom':35,\n",
    "                    'top':20,\n",
    "                    'left':50,\n",
    "                    'right':0}\n",
    "\n",
    "# zoom to smaller portion of data\n",
    "\n",
    "\n",
    "# Widget box and some layout\n",
    "slider_label_list = HBox([Label('Power Threshold'),Label('Low pass band'),Label(\"High Pass band\")])\n",
    "slider_label_list.layout.justify_content = 'space-between'\n",
    "\n",
    "# Just organizing widgets...\n",
    "slider_list =  VBox([slider_label_list,HBox([filter_thresh,low_pass,high_pass])])\n",
    "\n",
    "# Next set of components\n",
    "signal_dropdowns = VBox([activity_select,gyro_select])\n",
    "\n",
    "# example layouts, attributes, like children\n",
    "# helped with aesthetic and spacing\n",
    "\n",
    "signal_dropdowns.layout.overflow = 'hidden'\n",
    "signal_dropdowns.layout.width = '275px'\n",
    "signal_dropdowns.layout.border = 'solid'\n",
    "signal_dropdowns.children[0].layout.width = '125px'\n",
    "signal_dropdowns.children[0].layout.border = 'solid'\n",
    "signal_dropdowns.children[1].layout.width = '125px'\n",
    "signal_dropdowns.children[1].layout.border = 'solid'\n",
    "\n",
    "\n",
    "\n",
    "widgets_box = HBox([signal_dropdowns,slider_list])\n",
    "VBox([widgets_box,HBox([sig_fig,fft_fig])])"
   ]
  },
  {
   "cell_type": "markdown",
   "metadata": {},
   "source": [
    "When we fine tune parameters for our model, we can import those parameters to use for our ML model. I also want to perform calculus and integration to obtain angle and other measurements! So hopefully this helps removes integration drift and other issues..😬"
   ]
  },
  {
   "cell_type": "code",
   "execution_count": null,
   "metadata": {},
   "outputs": [],
   "source": []
  }
 ],
 "metadata": {
  "kernelspec": {
   "display_name": "Python (Signal Processing Project)",
   "language": "python",
   "name": "sig_proc_proj"
  },
  "language_info": {
   "codemirror_mode": {
    "name": "ipython",
    "version": 3
   },
   "file_extension": ".py",
   "mimetype": "text/x-python",
   "name": "python",
   "nbconvert_exporter": "python",
   "pygments_lexer": "ipython3",
   "version": "3.9.2"
  },
  "varInspector": {
   "cols": {
    "lenName": 16,
    "lenType": 16,
    "lenVar": 40
   },
   "kernels_config": {
    "python": {
     "delete_cmd_postfix": "",
     "delete_cmd_prefix": "del ",
     "library": "var_list.py",
     "varRefreshCmd": "print(var_dic_list())"
    },
    "r": {
     "delete_cmd_postfix": ") ",
     "delete_cmd_prefix": "rm(",
     "library": "var_list.r",
     "varRefreshCmd": "cat(var_dic_list()) "
    }
   },
   "oldHeight": 122.461434,
   "position": {
    "height": "39.9945px",
    "left": "865.854px",
    "right": "20px",
    "top": "120px",
    "width": "250px"
   },
   "types_to_exclude": [
    "module",
    "function",
    "builtin_function_or_method",
    "instance",
    "_Feature"
   ],
   "varInspector_section_display": "none",
   "window_display": false
  }
 },
 "nbformat": 4,
 "nbformat_minor": 4
}
