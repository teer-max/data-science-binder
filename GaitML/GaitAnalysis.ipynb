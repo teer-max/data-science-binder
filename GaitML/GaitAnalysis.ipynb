{
 "cells": [
  {
   "cell_type": "markdown",
   "metadata": {},
   "source": [
    "# Gait Analysis IMU ML Analysis \n",
    "\n",
    "*Application of Data Science Methodology toward classifying the gait activity of subjects via an Inertial Measurement Unit (IMU) motion sensor placed on the top of the foot*  \n",
    "\n",
    "---\n",
    "\n",
    "## Table Of Contents (so far)\n",
    "\n",
    "1. Introduction\n",
    "    * This is a general introduction to the problem and methodology, and we do some light preparation here. Nothing super interesting.\n",
    "\n",
    "    \n",
    " > ⚠ I suggest moving ahead to the links below to get to the more visual stuff ⚠\n",
    "    \n",
    "    \n",
    "\n",
    "2. [Filtering Accelerometer Data](Accelerometer-median-filtering.ipynb)\n",
    " * Interactive Median Filtration! 😀\n",
    "\n",
    "\n",
    "3. [Smoothing Gyroscope Data](./gyroscope-FFT-filtering.ipynb)\n",
    " * Interactive FFT filtration! 😊\n",
    "\n",
    "---\n",
    "\n",
    "# 💡 New to Jupyter?\n",
    "\n",
    "> Run cells with <kbd>Shift + Enter</kbd> and have fun!<br/><br/>\n",
    "> Insert new cells above or below with <br/> <br/>\n",
    ">  (command mode) <kbd>Esc</kbd> + <kbd>A</kbd> <br/>\n",
    ">  (command mode) <kbd>Esc</kbd> + <kbd>B</kbd>"
   ]
  },
  {
   "cell_type": "markdown",
   "metadata": {},
   "source": [
    "# Introduction\n",
    "\n",
    "## 1. Question or Goal\n",
    "---\n",
    "\n",
    "Using 3D accelerometer and gyroscope data gathered from an Inertial Measurement Unit (IMU) placed on the top of the foot of a subject, can we accurately classify their activity (e.g. walking, running, standing, sitting, laying down, etc.)? Further, could refinements be made to integrate the data to model the gait of the subject and analyze their stride length, velocity or other factors?\n",
    "\n",
    "We can see this potentially as a business problem, perhaps with the goal of developing cheaper diagnostic tools. Or perhaps in applications that can track your workout activities and return relevant statistics to the user.\n",
    "\n",
    "There are different considerations to be made, but this is intended to serve primarily as a tutorial and data visualization demonstration, so we will have to make some hopefully healthy compromises along the way."
   ]
  },
  {
   "cell_type": "markdown",
   "metadata": {},
   "source": [
    "## 2. Analytic Approach\n",
    "---\n",
    "We have to understand the types of answers we want from this question, and to assess how the data can be used to give those answers.\n",
    "\n",
    "We need to discuss how the measurements were taken to come up with the correct goals and approaches and models to suss out reasonably accurate and efficient results."
   ]
  },
  {
   "cell_type": "markdown",
   "metadata": {},
   "source": [
    "---\n",
    "\n",
    "### Procedure\n",
    "\n",
    "- The IMU after being charged, is secured with tape on top of foot.\n",
    "\n",
    "\n",
    "-  begins recording after being activated by button press while on the foot\n",
    "\n",
    "\n",
    "- subject is instructed to perform a prescribed set of activities (similar to):\n",
    "  - stand\n",
    "  - stomp (3 times)\n",
    "  - bend foot\n",
    "  - stomp \n",
    "  - walk\n",
    "  - rest\n",
    "  - run\n",
    "  - rest\n",
    "  - random stuff - for test data walking\n",
    "\n",
    "\n",
    "- The data is written to `.csv` file that is downloaded directly from the device after a period of recording.\n",
    "\n",
    "### Measurements\n",
    "\n",
    "- It measures **acceleration** in g's, a unit of acceleration that is equivalent to the acceleration of gravity (9.81 $m/s^2$).\n",
    "\n",
    "\n",
    "- It measures **rotational velocity** in degrees per second (deg/s).\n",
    "\n",
    "\n",
    "- This makes for a total of 6 physical degrees of freedom, and 7 with time. \n",
    "\n",
    "\n",
    "- However, the IMU gives us additional data that is not necessary for our analysis, including temperature and 3D magnetometer data. This will be important to clean at the data preparation stage.\n"
   ]
  },
  {
   "cell_type": "markdown",
   "metadata": {},
   "source": [
    "## Considerations / Precautions\n",
    "---\n",
    "\n",
    "> It's important to scrutinize and consider the errors or constraints inherent in y/our data. One of our goals is to mitigate these errors. \n",
    ">\n",
    ">While I'd rather skip these parts and shove data into a model, it's important to address these as best we can. Sometimes we cannot, and other times we choose not. But it's important to try to acknowledge these aspects of the data\n",
    "\n",
    "\n",
    "* The IMU is not exactly state-of-the-art, and gyroscope data is very prone to **drift**. We will use **signal processing** techniques like **FFT analysis** to attempt to remove noise and drift.\n",
    "\n",
    "\n",
    "* We can use *spectral information* from the signals to design different **filters** to see what provides the clearest and most distinct features.\n",
    "\n",
    "\n",
    "* Incorrect placement of the IMU.\n",
    "    \n",
    "> Naturally, it is not going to sit flat on the top of the foot. We must reorient the device and transform the coordinate system to compensate at times, depending on how we want to model things. There is a question about the efficacy and the effort involved in automating this reorientation since it's also possible to classify the activity well enough with an off-center coordinate system. We might however miss out on the potential to perform some real time modeling of the foot/device in the future.\n",
    "  \n",
    "I am choosing to forego performing 3D scaling and transformations on the data for the time being and will focus on the signal analysis and model training aspects of the analysis.\n"
   ]
  },
  {
   "cell_type": "markdown",
   "metadata": {},
   "source": [
    "# Types of Answers / Goal\n",
    "---\n",
    "\n",
    "1. We want to **classify** the activity of the subject (or user).\n",
    "     * This means we are going to prefer a supervised learning model, a probabilistic model that tells us the most likely outcome or classification from a set of predetermined (supervised) possibilities.\n",
    "     * We can choose a model and train it to predict the most likely outcomes based off our input training data and the training labels (the correct classifications).  \n",
    "\n",
    "\n",
    "2. We also want to integrate the accelerometer data to measure average (or real-time) velocity and perhaps integrate that to measure position. We will leverage the information in the lab notes to help in developing accurate models. Another factor is stride length, periodicity (is the left stride longer than the right?).  \n",
    "\n",
    "\n",
    "3. We may also eventually want to visually model the activity of the foot.  \n",
    "\n",
    "> ### Okay, that's asking a lot.\n",
    "\n",
    "That's fine! Let's just make headway toward classifying between three activities: running, walking and standing.\n",
    "\n",
    "Now we are entering the data requirements phase. We're getting closer to playing with the data, so hang in there."
   ]
  },
  {
   "cell_type": "markdown",
   "metadata": {},
   "source": [
    "## 3. Data Requirements\n",
    "---\n",
    "\n",
    "\n",
    "* We need to remove the unnecessary data from the dataframe.\n",
    "\n",
    "\n",
    "* We need to filter noise and drift out of the data. (i.e. smooth)\n",
    "\n",
    "\n",
    "* We need to manually label the data with help from `bqplot` and classify it as walking, standing or running so we can train predictive/classification model.\n",
    "\n",
    "\n",
    "* We need to reorient the data to a body-centered coordinate axis.\n",
    "    * Or at the very least flatten the coordinate system so that gravity points, (0,0,1) in (x,y,z) acc vector\n",
    "    * Then we can scale/standardize according to FFT analysis and can look for features\n",
    "\n",
    "### Okay, this is also asking a lot. Well, let's just make progress!"
   ]
  },
  {
   "cell_type": "markdown",
   "metadata": {},
   "source": [
    "## 4. Data Collection\n",
    "---\n",
    "\n",
    "This phase is essentially complete, unless at some point we'd like to get more data to classify different activities. The data only provide enough information for walking and standing and running, and parameters involving those states.\n",
    "\n",
    "There are physical notes that were taken as well as video, which I don't have access to.\n",
    "\n",
    "\n",
    "<div id=\"playtime\"><div/>\n"
   ]
  },
  {
   "cell_type": "markdown",
   "metadata": {},
   "source": [
    "## 5. Data Understanding / Visualization\n",
    "\n",
    "Understanding the nature of the data, and the heuristic properties of the experiment and procedure itself will help us to engineer features to look for that may help us classify the activities.\n",
    "\n",
    "Examples might be the maximum acceleration in the x direction, minimum acceleration in the z direction, etc.\n",
    "\n",
    "Alternatively, we can just visualize the accelerometer data in the X,Y,Z components and see if we notice any patterns. Similarly for rotation.\n"
   ]
  },
  {
   "cell_type": "code",
   "execution_count": 1,
   "metadata": {
    "scrolled": true
   },
   "outputs": [
    {
     "name": "stdout",
     "output_type": "stream",
     "text": [
      "File Read\n"
     ]
    }
   ],
   "source": [
    "import numpy as np\n",
    "import pandas as pd\n",
    "import datetime\n",
    "\n",
    "import warnings\n",
    "warnings.filterwarnings(\"ignore\")\n",
    "file_path = \"./data/TAS1F06180329 (2018-10-24)-IMU.csv\"\n",
    "\n",
    "# The header value has to do with how the CSV is formatted.\n",
    "# The 10th row contains the column names\n",
    "\n",
    "IMU_data = pd.read_csv(file_path, header=10)\n",
    "print(\"File Read\")"
   ]
  },
  {
   "cell_type": "markdown",
   "metadata": {},
   "source": [
    "Check that the data look right"
   ]
  },
  {
   "cell_type": "code",
   "execution_count": 2,
   "metadata": {
    "scrolled": true
   },
   "outputs": [
    {
     "data": {
      "text/html": [
       "<div>\n",
       "<style scoped>\n",
       "    .dataframe tbody tr th:only-of-type {\n",
       "        vertical-align: middle;\n",
       "    }\n",
       "\n",
       "    .dataframe tbody tr th {\n",
       "        vertical-align: top;\n",
       "    }\n",
       "\n",
       "    .dataframe thead th {\n",
       "        text-align: right;\n",
       "    }\n",
       "</style>\n",
       "<table border=\"1\" class=\"dataframe\">\n",
       "  <thead>\n",
       "    <tr style=\"text-align: right;\">\n",
       "      <th></th>\n",
       "      <th>Timestamp</th>\n",
       "      <th>Accelerometer X</th>\n",
       "      <th>Accelerometer Y</th>\n",
       "      <th>Accelerometer Z</th>\n",
       "      <th>Temperature</th>\n",
       "      <th>Gyroscope X</th>\n",
       "      <th>Gyroscope Y</th>\n",
       "      <th>Gyroscope Z</th>\n",
       "      <th>Magnetometer X</th>\n",
       "      <th>Magnetometer Y</th>\n",
       "      <th>Magnetometer Z</th>\n",
       "    </tr>\n",
       "  </thead>\n",
       "  <tbody>\n",
       "    <tr>\n",
       "      <th>0</th>\n",
       "      <td>2018-10-24T11:20:00.0000000</td>\n",
       "      <td>0.046875</td>\n",
       "      <td>-0.008301</td>\n",
       "      <td>1.015625</td>\n",
       "      <td>31.689790</td>\n",
       "      <td>-1.403809</td>\n",
       "      <td>1.403809</td>\n",
       "      <td>-0.549316</td>\n",
       "      <td>-11.132812</td>\n",
       "      <td>7.03125</td>\n",
       "      <td>24.316405</td>\n",
       "    </tr>\n",
       "    <tr>\n",
       "      <th>1</th>\n",
       "      <td>2018-10-24T11:20:00.0100000</td>\n",
       "      <td>0.049316</td>\n",
       "      <td>-0.003906</td>\n",
       "      <td>1.016602</td>\n",
       "      <td>31.698775</td>\n",
       "      <td>-1.647949</td>\n",
       "      <td>1.342774</td>\n",
       "      <td>-0.549316</td>\n",
       "      <td>-11.132812</td>\n",
       "      <td>7.03125</td>\n",
       "      <td>24.316405</td>\n",
       "    </tr>\n",
       "    <tr>\n",
       "      <th>2</th>\n",
       "      <td>2018-10-24T11:20:00.0200000</td>\n",
       "      <td>0.045898</td>\n",
       "      <td>-0.010742</td>\n",
       "      <td>1.010254</td>\n",
       "      <td>31.695780</td>\n",
       "      <td>-2.258301</td>\n",
       "      <td>1.159668</td>\n",
       "      <td>-0.549316</td>\n",
       "      <td>-11.132812</td>\n",
       "      <td>7.03125</td>\n",
       "      <td>24.316405</td>\n",
       "    </tr>\n",
       "    <tr>\n",
       "      <th>3</th>\n",
       "      <td>2018-10-24T11:20:00.0300000</td>\n",
       "      <td>0.044922</td>\n",
       "      <td>-0.010254</td>\n",
       "      <td>1.014160</td>\n",
       "      <td>31.698775</td>\n",
       "      <td>-2.258301</td>\n",
       "      <td>1.098633</td>\n",
       "      <td>-0.549316</td>\n",
       "      <td>-11.132812</td>\n",
       "      <td>7.03125</td>\n",
       "      <td>24.316405</td>\n",
       "    </tr>\n",
       "    <tr>\n",
       "      <th>4</th>\n",
       "      <td>2018-10-24T11:20:00.0400000</td>\n",
       "      <td>0.050781</td>\n",
       "      <td>-0.011719</td>\n",
       "      <td>1.008301</td>\n",
       "      <td>31.677809</td>\n",
       "      <td>-2.380371</td>\n",
       "      <td>1.037598</td>\n",
       "      <td>-0.549316</td>\n",
       "      <td>-11.132812</td>\n",
       "      <td>7.03125</td>\n",
       "      <td>24.316405</td>\n",
       "    </tr>\n",
       "  </tbody>\n",
       "</table>\n",
       "</div>"
      ],
      "text/plain": [
       "                     Timestamp  Accelerometer X  Accelerometer Y  \\\n",
       "0  2018-10-24T11:20:00.0000000         0.046875        -0.008301   \n",
       "1  2018-10-24T11:20:00.0100000         0.049316        -0.003906   \n",
       "2  2018-10-24T11:20:00.0200000         0.045898        -0.010742   \n",
       "3  2018-10-24T11:20:00.0300000         0.044922        -0.010254   \n",
       "4  2018-10-24T11:20:00.0400000         0.050781        -0.011719   \n",
       "\n",
       "   Accelerometer Z  Temperature  Gyroscope X  Gyroscope Y  Gyroscope Z  \\\n",
       "0         1.015625    31.689790    -1.403809     1.403809    -0.549316   \n",
       "1         1.016602    31.698775    -1.647949     1.342774    -0.549316   \n",
       "2         1.010254    31.695780    -2.258301     1.159668    -0.549316   \n",
       "3         1.014160    31.698775    -2.258301     1.098633    -0.549316   \n",
       "4         1.008301    31.677809    -2.380371     1.037598    -0.549316   \n",
       "\n",
       "   Magnetometer X  Magnetometer Y  Magnetometer Z  \n",
       "0      -11.132812         7.03125       24.316405  \n",
       "1      -11.132812         7.03125       24.316405  \n",
       "2      -11.132812         7.03125       24.316405  \n",
       "3      -11.132812         7.03125       24.316405  \n",
       "4      -11.132812         7.03125       24.316405  "
      ]
     },
     "execution_count": 2,
     "metadata": {},
     "output_type": "execute_result"
    }
   ],
   "source": [
    "IMU_data.head()"
   ]
  },
  {
   "cell_type": "markdown",
   "metadata": {},
   "source": [
    "## 5.1 Light Data Cleaning\n",
    "\n",
    "### Standardizing/Selecting Columns\n",
    "\n",
    "Look at the variables/columns provided by the IMU. We will want to *standardize the column names*--we will do this by casting to lowercase and removing spaces. You'll also notice there's a few more variables other than time, acceleration and gyroscope data. We will `drop` these columns using `df.drop(col_name)`."
   ]
  },
  {
   "cell_type": "code",
   "execution_count": 3,
   "metadata": {
    "scrolled": true
   },
   "outputs": [
    {
     "data": {
      "text/plain": [
       "Index(['Timestamp', 'Accelerometer X', 'Accelerometer Y', 'Accelerometer Z',\n",
       "       'Temperature', 'Gyroscope X', 'Gyroscope Y', 'Gyroscope Z',\n",
       "       'Magnetometer X', 'Magnetometer Y', 'Magnetometer Z'],\n",
       "      dtype='object')"
      ]
     },
     "execution_count": 3,
     "metadata": {},
     "output_type": "execute_result"
    }
   ],
   "source": [
    "IMU_data.columns # or try IMU_data.keys()"
   ]
  },
  {
   "cell_type": "code",
   "execution_count": 4,
   "metadata": {
    "scrolled": true
   },
   "outputs": [],
   "source": [
    "# This is how I'm choosing to rename/standardize the columns without the rename function.\n",
    "new_column_names = []\n",
    "\n",
    "for val in IMU_data.columns:\n",
    "    # print(f\"before: {val}\")\n",
    "    val = val.lower()\n",
    "    val = val.replace(\" \", \"_\")\n",
    "    new_column_names.append(val)\n",
    "    # print(f\"after: {val}\")`\n",
    "    \n",
    "# Assign new values to old columns\n",
    "IMU_data.columns = new_column_names"
   ]
  },
  {
   "cell_type": "code",
   "execution_count": 5,
   "metadata": {
    "scrolled": true
   },
   "outputs": [
    {
     "data": {
      "text/plain": [
       "array(['timestamp', 'accelerometer_x', 'accelerometer_y',\n",
       "       'accelerometer_z', 'temperature', 'gyroscope_x', 'gyroscope_y',\n",
       "       'gyroscope_z', 'magnetometer_x', 'magnetometer_y',\n",
       "       'magnetometer_z'], dtype=object)"
      ]
     },
     "execution_count": 5,
     "metadata": {},
     "output_type": "execute_result"
    }
   ],
   "source": [
    "IMU_data.columns.values # can also just use '.columns' without looking at values"
   ]
  },
  {
   "cell_type": "markdown",
   "metadata": {},
   "source": [
    "\n",
    "Now I want to `df.drop()` all the undesirable columns: the magnetometer and the temperature data."
   ]
  },
  {
   "cell_type": "code",
   "execution_count": 6,
   "metadata": {
    "scrolled": true
   },
   "outputs": [],
   "source": [
    "undesirables = [\"temperature\", \"magnetometer_x\", \"magnetometer_y\", \"magnetometer_z\"]\n",
    "\n",
    "IMU_data.drop(undesirables, # List of col names to drop\n",
    "              axis=1,       # Axis = 1 specifies columns. Axis = 0 specifies rows.\n",
    "              inplace=True) # inplace = True means modify orig, False means return copy"
   ]
  },
  {
   "cell_type": "markdown",
   "metadata": {},
   "source": [
    "### Reindexing for time, instead of date\n",
    "\n",
    "If the start time is '2018-10-24T11:20:00.0000000', then we obtain the initial time of 0.0s by subtracting that from every timestamp in the data frame. \n",
    "\n",
    "|DATE|--->|DATETIME OBJ|--->|UNIX TS|--->|TIME(s)|\n",
    "|----|----|------------|----|----|----|------------|\n",
    "|2018-10-24T11:20:00.0000000|--->|DT obj|--->|1540405200.0|--->|0.0\n",
    "|2018-10-24T11:20:20.0000000|--->|DT obj|--->|1540405220.0|--->|20.0"
   ]
  },
  {
   "cell_type": "code",
   "execution_count": 7,
   "metadata": {
    "scrolled": true
   },
   "outputs": [
    {
     "name": "stdout",
     "output_type": "stream",
     "text": [
      "                     timestamp  accelerometer_x  accelerometer_y  \\\n",
      "0  2018-10-24T11:20:00.0000000         0.046875        -0.008301   \n",
      "1  2018-10-24T11:20:00.0100000         0.049316        -0.003906   \n",
      "2  2018-10-24T11:20:00.0200000         0.045898        -0.010742   \n",
      "3  2018-10-24T11:20:00.0300000         0.044922        -0.010254   \n",
      "4  2018-10-24T11:20:00.0400000         0.050781        -0.011719   \n",
      "\n",
      "   accelerometer_z  gyroscope_x  gyroscope_y  gyroscope_z  time  \n",
      "0         1.015625    -1.403809     1.403809    -0.549316  0.00  \n",
      "1         1.016602    -1.647949     1.342774    -0.549316  0.01  \n",
      "2         1.010254    -2.258301     1.159668    -0.549316  0.02  \n",
      "3         1.014160    -2.258301     1.098633    -0.549316  0.03  \n",
      "4         1.008301    -2.380371     1.037598    -0.549316  0.04  \n"
     ]
    }
   ],
   "source": [
    "import dateutil\n",
    "\n",
    "# map is basically saying apply function to every member\n",
    "# the argument is a function object, not its call/return\n",
    "IMU_data['time'] = IMU_data['timestamp'].map(dateutil.parser.isoparse)\n",
    "IMU_data['time'] = IMU_data['time'].map(datetime.datetime.timestamp)\n",
    "\n",
    "# Difference between each current second and the initial (removes large unix number)\n",
    "IMU_data['time'] = IMU_data['time'] - IMU_data['time'].iloc[0]\n",
    "\n",
    "print(IMU_data.head())"
   ]
  },
  {
   "cell_type": "markdown",
   "metadata": {},
   "source": [
    "### Reordering Columns"
   ]
  },
  {
   "cell_type": "code",
   "execution_count": 11,
   "metadata": {},
   "outputs": [],
   "source": [
    "IMU_data = IMU_data[['timestamp','time','accelerometer_x',\n",
    "                     'accelerometer_y','accelerometer_z',\n",
    "                    'gyroscope_x','gyroscope_y','gyroscope_z']]"
   ]
  },
  {
   "cell_type": "markdown",
   "metadata": {},
   "source": [
    "### Saving the data\n",
    "Now might be a good time to **save** the groomed csv file to save us trouble/cleaning in the future. We do this using\n",
    "`df.to_csv()` and specifying a location and file name."
   ]
  },
  {
   "cell_type": "code",
   "execution_count": 12,
   "metadata": {
    "scrolled": true
   },
   "outputs": [],
   "source": [
    "IMU_data.to_csv(\"./data/Motion_data_stage1.csv\",index=False)"
   ]
  },
  {
   "cell_type": "markdown",
   "metadata": {},
   "source": [
    "Verify this new `.csv` file was saved."
   ]
  },
  {
   "cell_type": "code",
   "execution_count": 13,
   "metadata": {
    "scrolled": true
   },
   "outputs": [
    {
     "name": "stdout",
     "output_type": "stream",
     "text": [
      "                     timestamp  time  accelerometer_x  accelerometer_y  \\\n",
      "0  2018-10-24T11:20:00.0000000  0.00         0.046875        -0.008301   \n",
      "1  2018-10-24T11:20:00.0100000  0.01         0.049316        -0.003906   \n",
      "2  2018-10-24T11:20:00.0200000  0.02         0.045898        -0.010742   \n",
      "3  2018-10-24T11:20:00.0300000  0.03         0.044922        -0.010254   \n",
      "4  2018-10-24T11:20:00.0400000  0.04         0.050781        -0.011719   \n",
      "\n",
      "   accelerometer_z  gyroscope_x  gyroscope_y  gyroscope_z  \n",
      "0         1.015625    -1.403809     1.403809    -0.549316  \n",
      "1         1.016602    -1.647949     1.342774    -0.549316  \n",
      "2         1.010254    -2.258301     1.159668    -0.549316  \n",
      "3         1.014160    -2.258301     1.098633    -0.549316  \n",
      "4         1.008301    -2.380371     1.037598    -0.549316   \n",
      "\n"
     ]
    }
   ],
   "source": [
    "df = pd.read_csv(\"./data/Motion_data_stage1.csv\")\n",
    "print(df.head(),\"\\n\")\n",
    "\n",
    "\n",
    "# Or, alternatively, without reading a big file into memory:\n",
    "#import os\n",
    "#print(os.path.isfile('./data/Motion_data_stage1.csv'))"
   ]
  },
  {
   "cell_type": "markdown",
   "metadata": {},
   "source": [
    "# 5.2 More Preparation\n",
    "---\n",
    "We are still within the **data understanding** stage, and we have done some light data cleaning/preparation.\n",
    "\n",
    "\n",
    "In order to get accurate real-world measurements, we need to attempt to **correct for noise**, positioning of the foot, and other factors.\n",
    "\n",
    "\n",
    ">There is a trade off between performing the most accurate cleaning and the most efficient, as it may take too much time/computation to make a model, or even to efficiently and intelligently process signals for input into an ML model--if this cleaning and processing were to be automated and put into production. Overall, for vectorized operations, they will be efficient, but others will be more computationally difficult.\n",
    "\n",
    "Just a foreshadowing, but we plan on implementing a basic K-Nearest Neighbors model after exploring some features of the data.\n"
   ]
  },
  {
   "cell_type": "markdown",
   "metadata": {},
   "source": [
    "### Positioning/acceleration - Heuristic stuff\n",
    "\n",
    "At rest, the foot has one unit of acceleration applied opposite of the z-axis. In a 3-dimensional, xyz-coordinate, system this would give a measurement of (0g,0g,1g). Let's average the acceleration of the resting foot to determine if this is the case.\n",
    "\n",
    "> note that you would not simply just subtract (0,0,1) from all inputs. Since the angle of the foot changes, you need to get the angle of rotation of the foot, and then subsequently rotate a vector (0,0,1) in that same direction, and then subtract the resulting vector from the data.\n",
    ">\n",
    ">\n",
    "> > This physical element would be super fun to implement but for now it is a <span style=\"color: orange\">TODO</span>. Again, we will focus on the signal processing aspects of this analysis.\n",
    "\n"
   ]
  }
 ],
 "metadata": {
  "kernelspec": {
   "display_name": "Python (Signal Processing Project)",
   "language": "python",
   "name": "sig_proc_proj"
  },
  "language_info": {
   "codemirror_mode": {
    "name": "ipython",
    "version": 3
   },
   "file_extension": ".py",
   "mimetype": "text/x-python",
   "name": "python",
   "nbconvert_exporter": "python",
   "pygments_lexer": "ipython3",
   "version": "3.9.2"
  },
  "varInspector": {
   "cols": {
    "lenName": 16,
    "lenType": 16,
    "lenVar": 40
   },
   "kernels_config": {
    "python": {
     "delete_cmd_postfix": "",
     "delete_cmd_prefix": "del ",
     "library": "var_list.py",
     "varRefreshCmd": "print(var_dic_list())"
    },
    "r": {
     "delete_cmd_postfix": ") ",
     "delete_cmd_prefix": "rm(",
     "library": "var_list.r",
     "varRefreshCmd": "cat(var_dic_list()) "
    }
   },
   "types_to_exclude": [
    "module",
    "function",
    "builtin_function_or_method",
    "instance",
    "_Feature"
   ],
   "window_display": false
  }
 },
 "nbformat": 4,
 "nbformat_minor": 4
}
