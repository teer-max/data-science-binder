{
 "cells": [
  {
   "cell_type": "markdown",
   "id": "ba74616f",
   "metadata": {},
   "source": [
    "# Welcome to my Binder!\n",
    "\n",
    "My name is Max, and these are some of the data science projects I've worked on!\n",
    "\n",
    "# Projects:\n",
    "\n",
    "* [Pokemon Go Anki Flashcard generator](./pogo-anki/Pogo-anki.ipynb)\n",
    "\n",
    "\n",
    "* [Gait Analysis, Signal Processing](./GaitML/GaitAnalysis.ipynb)\n",
    "\n",
    "\n",
    "* Math Art / Animations\n",
    "\n",
    "    * [Modulo Multiplication Circle](https://teer-max.github.io/Modulo-Circle/html/modcircle.html) (external link)\n",
    "    \n",
    "    * [Trig/Circle animation](https://teer-max.github.io/html/Trig.html) (external link)\n",
    "    \n",
    "    * Made with HTML, JS, and P5.js"
   ]
  },
  {
   "cell_type": "code",
   "execution_count": null,
   "id": "cf8ef5a4",
   "metadata": {},
   "outputs": [],
   "source": []
  }
 ],
 "metadata": {
  "kernelspec": {
   "display_name": "Python (Signal Processing Project)",
   "language": "python",
   "name": "sig_proc_proj"
  },
  "language_info": {
   "codemirror_mode": {
    "name": "ipython",
    "version": 3
   },
   "file_extension": ".py",
   "mimetype": "text/x-python",
   "name": "python",
   "nbconvert_exporter": "python",
   "pygments_lexer": "ipython3",
   "version": "3.9.2"
  },
  "varInspector": {
   "cols": {
    "lenName": 16,
    "lenType": 16,
    "lenVar": 40
   },
   "kernels_config": {
    "python": {
     "delete_cmd_postfix": "",
     "delete_cmd_prefix": "del ",
     "library": "var_list.py",
     "varRefreshCmd": "print(var_dic_list())"
    },
    "r": {
     "delete_cmd_postfix": ") ",
     "delete_cmd_prefix": "rm(",
     "library": "var_list.r",
     "varRefreshCmd": "cat(var_dic_list()) "
    }
   },
   "types_to_exclude": [
    "module",
    "function",
    "builtin_function_or_method",
    "instance",
    "_Feature"
   ],
   "window_display": false
  }
 },
 "nbformat": 4,
 "nbformat_minor": 5
}
