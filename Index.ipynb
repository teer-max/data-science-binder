{
 "cells": [
  {
   "cell_type": "markdown",
   "metadata": {},
   "source": [
    "# Welcome to my Binder!\n",
    "\n",
    "My name is Max, and these are some of the data science projects I've worked on!\n",
    "\n",
    "### New to Jupyter?\n",
    "\n",
    "Read through any notebooks or projects and run them cell by cell by pressing <kbd>Shift + Enter </kbd>.\n",
    "You'll see the output returned below!\n",
    "\n",
    "Press <kbd> Crtl + Shift + P </kbd> to open the command pallete and search through other commands you might need. A couple very useful ones, besides run cell: <br/>\n",
    "<br/>\n",
    "<kbd>Esc</kbd> Enters command mode from edit mode<br/>\n",
    "<kbd>Enter</kbd> Enters edit mode from command mode<br/>\n",
    "<br/>\n",
    "Command mode shortcuts:<br/>\n",
    "<kbd>M</kbd> Change cell to markdown<br/>\n",
    "<kbd>Y</kbd> Change cell to code<br/>\n",
    "<kbd>A</kbd> Insert cell above<br/>\n",
    "<kbd>B</kbd> Insert cell below<br/>\n",
    "\n",
    "\n",
    "# Projects:\n",
    "\n",
    "* [Pokemon Go Anki Flashcard generator](./pogo-anki/Pogo-anki.ipynb)\n",
    "\n",
    "\n",
    "* [Gait Analysis, Signal Processing](./GaitML/GaitAnalysis.ipynb)\n",
    "\n",
    "\n",
    "* Math Art / Animations:\n",
    "    \n",
    "    \n",
    "    * [IFS Fractal Plotting](./ifs%20fractal%20plots/IFS-Plotting.ipynb)\n",
    "\n",
    "\n",
    "    * [Modulo Multiplication Circle](https://teer-max.github.io/Modulo-Circle/html/modcircle.html) (external link)\n",
    "\n",
    "\n",
    "    * [Trig/Circle animation](https://teer-max.github.io/html/Trig.html) (external link)\n",
    "\n",
    "\n",
    "    * Made with HTML, JS, and P5.js"
   ]
  },
  {
   "cell_type": "code",
   "execution_count": null,
   "metadata": {},
   "outputs": [],
   "source": []
  }
 ],
 "metadata": {
  "kernelspec": {
   "display_name": "Python (Signal Processing Project)",
   "language": "python",
   "name": "sig_proc_proj"
  },
  "language_info": {
   "codemirror_mode": {
    "name": "ipython",
    "version": 3
   },
   "file_extension": ".py",
   "mimetype": "text/x-python",
   "name": "python",
   "nbconvert_exporter": "python",
   "pygments_lexer": "ipython3",
   "version": "3.9.2"
  },
  "varInspector": {
   "cols": {
    "lenName": 16,
    "lenType": 16,
    "lenVar": 40
   },
   "kernels_config": {
    "python": {
     "delete_cmd_postfix": "",
     "delete_cmd_prefix": "del ",
     "library": "var_list.py",
     "varRefreshCmd": "print(var_dic_list())"
    },
    "r": {
     "delete_cmd_postfix": ") ",
     "delete_cmd_prefix": "rm(",
     "library": "var_list.r",
     "varRefreshCmd": "cat(var_dic_list()) "
    }
   },
   "types_to_exclude": [
    "module",
    "function",
    "builtin_function_or_method",
    "instance",
    "_Feature"
   ],
   "window_display": false
  }
 },
 "nbformat": 4,
 "nbformat_minor": 5
}
